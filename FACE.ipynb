{
 "cells": [
  {
   "cell_type": "code",
   "execution_count": 40,
   "id": "c7ed39b9",
   "metadata": {},
   "outputs": [],
   "source": [
    "import pandas as pd\n",
    "import tensorflow as tf\n",
    "from tensorflow import keras\n",
    "from keras.models import Model\n",
    "from keras.models import Sequential\n",
    "from keras.layers import Input\n",
    "from keras.layers import Dense\n",
    "from keras.layers import Dropout\n",
    "from keras.layers import Conv2D\n",
    "from keras.layers import MaxPooling2D\n",
    "from keras.layers import Flatten\n",
    "import numpy as np\n",
    "import cv2"
   ]
  },
  {
   "cell_type": "code",
   "execution_count": 7,
   "id": "af8adeb8",
   "metadata": {},
   "outputs": [],
   "source": [
    "train_df = pd.read_csv(\"fer2013.csv\")\n",
    "test_df = pd.read_csv(\"test.csv\")"
   ]
  },
  {
   "cell_type": "code",
   "execution_count": 8,
   "id": "27837862",
   "metadata": {},
   "outputs": [],
   "source": [
    "X_train = train_df[train_df[\"Usage\"] == \"Training\"]\n",
    "y_train = X_train.drop([\"pixels\", \"Usage\"], axis=1)\n",
    "X_test = train_df[train_df[\"Usage\"] == \"PublicTest\"]\n",
    "y_test = X_test.drop([\"pixels\", \"Usage\"], axis=1)"
   ]
  },
  {
   "cell_type": "code",
   "execution_count": 9,
   "id": "3d1b202b",
   "metadata": {},
   "outputs": [],
   "source": [
    "X_train = X_train.drop([\"Usage\", \"emotion\"], axis=1)\n",
    "X_test = X_test.drop([\"Usage\", \"emotion\"], axis=1)"
   ]
  },
  {
   "cell_type": "code",
   "execution_count": 10,
   "id": "51764aa9",
   "metadata": {},
   "outputs": [],
   "source": [
    "my_list = X_train[\"pixels\"].to_list()\n",
    "my_list_1 = X_test[\"pixels\"].to_list()\n",
    "y_train = y_train[\"emotion\"].to_numpy()\n",
    "y_test = y_test[\"emotion\"].to_numpy()"
   ]
  },
  {
   "cell_type": "code",
   "execution_count": 11,
   "id": "4195609a",
   "metadata": {},
   "outputs": [],
   "source": [
    "width, height = 48, 48\n",
    "input_shape = (48, 48, 1)"
   ]
  },
  {
   "cell_type": "code",
   "execution_count": 12,
   "id": "60afcdcd",
   "metadata": {},
   "outputs": [],
   "source": [
    "def convert_to_np(my_list):\n",
    "    faces = []\n",
    "    for i in my_list:\n",
    "        face = np.asarray(i.split(\" \"), dtype=np.uint8).reshape(width, height)\n",
    "        face = cv2.resize(face.astype('uint8'), (width, height))\n",
    "        faces.append(face.astype('float32'))\n",
    "        \n",
    "    faces = np.asarray(faces)\n",
    "    faces = np.expand_dims(faces, -1)\n",
    "    \n",
    "    return faces"
   ]
  },
  {
   "cell_type": "code",
   "execution_count": 13,
   "id": "6d5c630a",
   "metadata": {},
   "outputs": [],
   "source": [
    "X_train = convert_to_np(my_list)\n",
    "X_test = convert_to_np(my_list_1)\n",
    "#y_train = np.asarray(y_train)\n",
    "#y_test = np.asarray(y_test)"
   ]
  },
  {
   "cell_type": "code",
   "execution_count": 14,
   "id": "e3ab0b44",
   "metadata": {},
   "outputs": [],
   "source": [
    "X_train /= 255.\n",
    "X_test /= 255."
   ]
  },
  {
   "cell_type": "code",
   "execution_count": 15,
   "id": "d5e1123b",
   "metadata": {},
   "outputs": [
    {
     "data": {
      "text/plain": [
       "array([0, 0, 2, ..., 4, 0, 4], dtype=int64)"
      ]
     },
     "execution_count": 15,
     "metadata": {},
     "output_type": "execute_result"
    }
   ],
   "source": [
    "y_train"
   ]
  },
  {
   "cell_type": "code",
   "execution_count": 16,
   "id": "862e1c3a",
   "metadata": {},
   "outputs": [],
   "source": [
    "CLASSES = 7"
   ]
  },
  {
   "cell_type": "code",
   "execution_count": 17,
   "id": "858e8eb8",
   "metadata": {},
   "outputs": [],
   "source": [
    "model = Sequential()\n",
    "model.add(Conv2D(32, (3, 3), activation=\"relu\", input_shape=input_shape))\n",
    "model.add(MaxPooling2D())\n",
    "model.add(Conv2D(32, (3, 3), activation=\"relu\"))\n",
    "model.add(Flatten())\n",
    "model.add(Dense(64, activation=\"relu\"))\n",
    "model.add(Dense(CLASSES, activation='softmax'))"
   ]
  },
  {
   "cell_type": "code",
   "execution_count": 18,
   "id": "397bc8c2",
   "metadata": {},
   "outputs": [],
   "source": [
    "model.compile(loss='sparse_categorical_crossentropy',\n",
    "                            optimizer='adam', metrics=['accuracy'])"
   ]
  },
  {
   "cell_type": "code",
   "execution_count": 20,
   "id": "90059aae",
   "metadata": {},
   "outputs": [
    {
     "name": "stdout",
     "output_type": "stream",
     "text": [
      "Epoch 1/5\n",
      "898/898 [==============================] - 8s 4ms/step - loss: 1.5919 - accuracy: 0.3796 - val_loss: 1.4818 - val_accuracy: 0.4299\n",
      "Epoch 2/5\n",
      "898/898 [==============================] - 4s 4ms/step - loss: 1.3666 - accuracy: 0.4774 - val_loss: 1.3660 - val_accuracy: 0.4645\n",
      "Epoch 3/5\n",
      "898/898 [==============================] - 4s 4ms/step - loss: 1.2400 - accuracy: 0.5298 - val_loss: 1.3193 - val_accuracy: 0.4976\n",
      "Epoch 4/5\n",
      "898/898 [==============================] - 4s 4ms/step - loss: 1.1219 - accuracy: 0.5799 - val_loss: 1.3147 - val_accuracy: 0.5077\n",
      "Epoch 5/5\n",
      "898/898 [==============================] - 4s 4ms/step - loss: 1.0111 - accuracy: 0.6241 - val_loss: 1.3229 - val_accuracy: 0.5124\n"
     ]
    },
    {
     "data": {
      "text/plain": [
       "<keras.callbacks.History at 0x1f591f6e2b0>"
      ]
     },
     "execution_count": 20,
     "metadata": {},
     "output_type": "execute_result"
    }
   ],
   "source": [
    "model.fit(X_train, y_train,\n",
    "                        validation_data=(X_test, y_test),\n",
    "                        epochs=5, batch_size=32, verbose=1)"
   ]
  },
  {
   "cell_type": "code",
   "execution_count": 22,
   "id": "8dcfeebf",
   "metadata": {},
   "outputs": [
    {
     "data": {
      "text/plain": [
       "array([[2.6218829e-01, 2.4099855e-03, 1.4945986e-02, ..., 5.0926894e-01,\n",
       "        2.2735114e-05, 1.9904514e-01],\n",
       "       [2.8565919e-01, 5.1433410e-02, 1.1490626e-01, ..., 1.2711045e-01,\n",
       "        3.4178872e-02, 1.7962347e-01],\n",
       "       [2.6084310e-01, 2.1389227e-02, 4.3011758e-02, ..., 5.0717467e-01,\n",
       "        2.2403442e-03, 1.6457321e-01],\n",
       "       ...,\n",
       "       [7.4908067e-03, 7.2855291e-05, 6.6949002e-02, ..., 5.8274293e-01,\n",
       "        1.3847837e-02, 8.3207943e-02],\n",
       "       [6.4134234e-01, 5.5687106e-03, 6.7332357e-02, ..., 1.4162666e-01,\n",
       "        2.0890613e-03, 1.3623399e-01],\n",
       "       [4.7673691e-02, 1.4910622e-03, 1.2993024e-01, ..., 3.1837517e-01,\n",
       "        4.9539786e-02, 4.5135340e-01]], dtype=float32)"
      ]
     },
     "execution_count": 22,
     "metadata": {},
     "output_type": "execute_result"
    }
   ],
   "source": [
    "model.predict(X_test)"
   ]
  },
  {
   "cell_type": "code",
   "execution_count": 23,
   "id": "04a23905",
   "metadata": {},
   "outputs": [],
   "source": [
    "model.save(\"emotion.h5\")"
   ]
  },
  {
   "cell_type": "code",
   "execution_count": 38,
   "id": "246d0dbb",
   "metadata": {},
   "outputs": [
    {
     "name": "stdout",
     "output_type": "stream",
     "text": [
      "INFO:tensorflow:Assets written to: C:\\Users\\Waryk\\AppData\\Local\\Temp\\tmpugdz8bzb\\assets\n"
     ]
    }
   ],
   "source": [
    "converter = tf.lite.TFLiteConverter.from_keras_model(model)\n",
    "tflite_model = converter.convert()"
   ]
  },
  {
   "cell_type": "code",
   "execution_count": null,
   "id": "91dfb1a4",
   "metadata": {},
   "outputs": [],
   "source": []
  },
  {
   "cell_type": "code",
   "execution_count": null,
   "id": "ad515a3a",
   "metadata": {},
   "outputs": [],
   "source": []
  }
 ],
 "metadata": {
  "kernelspec": {
   "display_name": "Python 3 (ipykernel)",
   "language": "python",
   "name": "python3"
  },
  "language_info": {
   "codemirror_mode": {
    "name": "ipython",
    "version": 3
   },
   "file_extension": ".py",
   "mimetype": "text/x-python",
   "name": "python",
   "nbconvert_exporter": "python",
   "pygments_lexer": "ipython3",
   "version": "3.8.5"
  }
 },
 "nbformat": 4,
 "nbformat_minor": 5
}
